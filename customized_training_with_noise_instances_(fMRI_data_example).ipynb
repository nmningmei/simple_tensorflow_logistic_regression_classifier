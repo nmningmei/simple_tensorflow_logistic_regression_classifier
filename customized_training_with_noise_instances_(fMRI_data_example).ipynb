{
  "nbformat": 4,
  "nbformat_minor": 0,
  "metadata": {
    "colab": {
      "name": "customized_training_with_noise_instances (fMRI data example).ipynb",
      "provenance": [],
      "toc_visible": true,
      "authorship_tag": "ABX9TyOQNNseTs24AgPl6iuygeNm",
      "include_colab_link": true
    },
    "kernelspec": {
      "name": "python3",
      "display_name": "Python 3"
    },
    "language_info": {
      "name": "python"
    }
  },
  "cells": [
    {
      "cell_type": "markdown",
      "metadata": {
        "id": "view-in-github",
        "colab_type": "text"
      },
      "source": [
        "<a href=\"https://colab.research.google.com/github/nmningmei/simple_tensorflow_logistic_regression_classifier/blob/main/customized_training_with_noise_instances_(fMRI_data_example).ipynb\" target=\"_parent\"><img src=\"https://colab.research.google.com/assets/colab-badge.svg\" alt=\"Open In Colab\"/></a>"
      ]
    },
    {
      "cell_type": "markdown",
      "source": [
        "# This script adapts from [Customizing what happens in fit()](https://keras.io/guides/customizing_what_happens_in_fit/) for particular use in our lab"
      ],
      "metadata": {
        "id": "90PQh2trNsO9"
      }
    },
    {
      "cell_type": "code",
      "execution_count": null,
      "metadata": {
        "id": "Cu_OPvIL-ihK"
      },
      "outputs": [],
      "source": [
        "import os\n",
        "if not os.path.exists(\"/content/simple_tensorflow_logistic_regression_classifier\"):\n",
        "    !git clone https://github.com/nmningmei/simple_tensorflow_logistic_regression_classifier.git\n",
        "\n",
        "os.chdir(\"/content/simple_tensorflow_logistic_regression_classifier\")"
      ]
    },
    {
      "cell_type": "markdown",
      "source": [
        "# Upload the data"
      ],
      "metadata": {
        "id": "dKGcC-GF8MZI"
      }
    },
    {
      "cell_type": "code",
      "source": [
        "# Import PyDrive and associated libraries.\n",
        "# This only needs to be done once per notebook.\n",
        "from pydrive.auth import GoogleAuth\n",
        "from pydrive.drive import GoogleDrive\n",
        "from google.colab import auth\n",
        "from oauth2client.client import GoogleCredentials\n",
        "\n",
        "# Authenticate and create the PyDrive client.\n",
        "# This only needs to be done once per notebook.\n",
        "auth.authenticate_user()\n",
        "gauth = GoogleAuth()\n",
        "gauth.credentials = GoogleCredentials.get_application_default()\n",
        "drive = GoogleDrive(gauth)"
      ],
      "metadata": {
        "id": "8qHcLvpi8Ob4"
      },
      "execution_count": null,
      "outputs": []
    },
    {
      "cell_type": "code",
      "source": [
        "file_dictionary = {'test.csv':'1ZNryNfmV3S3W66JfFo9n-NWfazVz2idW',\n",
        "                   'test.npy':'1Uytrqj8biQGq-w0VbFJxm7xOH52Cra-Z',\n",
        "                   'train.csv':'1C9JFuZkmcRAan56LBrDYtLdfq_iPRO7j',\n",
        "                   'train.npy':'1ra9oL-9Mdy6elcnW6daeK0esGHeyGfe0'}\n",
        "for file_name,file_id in file_dictionary.items():\n",
        "    downloaded = drive.CreateFile({'id':file_id})\n",
        "    downloaded.GetContentFile(file_name)"
      ],
      "metadata": {
        "id": "_ieJqhwY-RT7"
      },
      "execution_count": null,
      "outputs": []
    },
    {
      "cell_type": "code",
      "source": [
        "ls"
      ],
      "metadata": {
        "colab": {
          "base_uri": "https://localhost:8080/"
        },
        "id": "H0g-eE3J-qzq",
        "outputId": "2b8bb9c9-cd65-4998-e015-a14f99d50156"
      },
      "execution_count": null,
      "outputs": [
        {
          "output_type": "stream",
          "name": "stdout",
          "text": [
            "customized_training_with_noise_instances.ipynb              temp.h5   train.csv\n",
            "LICENSE                                                     test.csv  train.npy\n",
            "README.md                                                   test.npy  utils.py\n",
            "simple_logistic_regression_implemented_in_tensorflow.ipynb  test.py\n"
          ]
        }
      ]
    },
    {
      "cell_type": "code",
      "source": [
        "import numpy as np\n",
        "import pandas as pd\n",
        "import tensorflow as tf\n",
        "from tensorflow import keras\n",
        "from tensorflow.keras import layers,models,initializers,optimizers,losses,metrics\n",
        "from tensorflow.keras.callbacks import ModelCheckpoint,EarlyStopping\n",
        "from sklearn.datasets import make_classification\n",
        "from sklearn.model_selection import train_test_split\n",
        "from sklearn.metrics import roc_auc_score\n",
        "from matplotlib import pyplot as plt"
      ],
      "metadata": {
        "id": "l7TMeW_6-tle"
      },
      "execution_count": null,
      "outputs": []
    },
    {
      "cell_type": "markdown",
      "source": [
        "# experiment control"
      ],
      "metadata": {
        "id": "ZaWNuc3R-wuP"
      }
    },
    {
      "cell_type": "code",
      "source": [
        "n_epochs = int(1e3) # just a large number\n",
        "print_train = True\n",
        "batch_size = 8\n",
        "n_noise = 1 # number of noise inputs per epoch\n",
        "learning_rate = 1e-2\n",
        "tol = 1e-4\n",
        "patience = 10"
      ],
      "metadata": {
        "id": "zeuIAmCp-v-N"
      },
      "execution_count": null,
      "outputs": []
    },
    {
      "cell_type": "markdown",
      "source": [
        "# clear memory states"
      ],
      "metadata": {
        "id": "lmtnWNhg-6D-"
      }
    },
    {
      "cell_type": "code",
      "source": [
        "tf.keras.backend.clear_session()"
      ],
      "metadata": {
        "id": "nrLCWDFK-375"
      },
      "execution_count": null,
      "outputs": []
    },
    {
      "cell_type": "markdown",
      "source": [
        "# 0: nonliving, 1: living, 2: noise"
      ],
      "metadata": {
        "id": "IPY8HFANA5rY"
      }
    },
    {
      "cell_type": "code",
      "source": [
        "def load_data(exclude = None):\n",
        "    X_train = np.load('train.npy')\n",
        "    df_train = pd.read_csv('train.csv')\n",
        "    y_train = df_train['target_category'].values\n",
        "    X_test = np.load('test.npy')\n",
        "    df_test = pd.read_csv('test.csv')\n",
        "    y_test = df_test['target_category'].values\n",
        "    if exclude is not None:\n",
        "        idx_train = y_train != exclude\n",
        "\n",
        "        X_train = X_train[idx_train]\n",
        "        y_train = y_train[idx_train]\n",
        "    return X_train,y_train,X_test,y_test\n",
        "X_train,y_train,X_test,y_test = load_data(exclude = 2)"
      ],
      "metadata": {
        "id": "Im-3AE2O-8Sb"
      },
      "execution_count": null,
      "outputs": []
    },
    {
      "cell_type": "markdown",
      "source": [
        "# One-hot encoding for softmax"
      ],
      "metadata": {
        "id": "UfxkkzQz_HnK"
      }
    },
    {
      "cell_type": "code",
      "source": [
        "def one_hot_encoding(y):\n",
        "    y = np.array(y == 0,dtype = 'float32')\n",
        "    y = y.reshape((-1,1))\n",
        "    y = np.hstack([y,1-y]).astype('float32')\n",
        "    return y\n",
        "y_train = one_hot_encoding(y_train)\n",
        "y_test = one_hot_encoding(y_test)"
      ],
      "metadata": {
        "id": "uVHDJUB8_Evd"
      },
      "execution_count": null,
      "outputs": []
    },
    {
      "cell_type": "markdown",
      "source": [
        "# split the data into train, validation, and test"
      ],
      "metadata": {
        "id": "9spg-dko_ON0"
      }
    },
    {
      "cell_type": "code",
      "source": [
        "X_train,X_valid,y_train,y_valid = train_test_split(X_train,y_train,test_size = .1,random_state = 12345)"
      ],
      "metadata": {
        "id": "Le8tMmtE_J94"
      },
      "execution_count": null,
      "outputs": []
    },
    {
      "cell_type": "markdown",
      "source": [
        "# build the model"
      ],
      "metadata": {
        "id": "vWPRmh7L_YlM"
      }
    },
    {
      "cell_type": "markdown",
      "source": [
        "## Helper functions"
      ],
      "metadata": {
        "id": "m2T8kv0CFwRS"
      }
    },
    {
      "cell_type": "code",
      "source": [
        "class simple_logistic_regression(keras.Model):\n",
        "    def train_step(self, data):\n",
        "        \"\"\"\n",
        "        This function is used during `fit()`\n",
        "\n",
        "        We manually add noise instances in each batch of training to increase\n",
        "        the diversity of the noise that the model sees.\n",
        "        \"\"\"\n",
        "        # Unpack the data. Its structure depends on your model and\n",
        "        # on what you pass to `fit()`.\n",
        "        x, y = data\n",
        "        x_mean,x_std = tf.nn.moments(x,axes = 0)\n",
        "        with tf.GradientTape() as tape:\n",
        "            x_noise = tf.random.normal(shape = (n_noise,x.shape[1]),\n",
        "                                       mean = x_mean,\n",
        "                                       stddev = x_std,\n",
        "                                       name = 'x_noise')\n",
        "            y_noise = tf.constant([[0.5,0.5]] * n_noise,dtype = \"float32\")\n",
        "            x_train = tf.concat([x,x_noise],0)\n",
        "            y_train = tf.concat([y,y_noise],0)\n",
        "            idx = np.arange(x_train.shape[0])\n",
        "            np.random.shuffle(idx)\n",
        "            x_train = tf.gather(x_train,idx,axis = 0)\n",
        "            y_train = tf.gather(y_train,idx,axis = 0)\n",
        "            y_pred = self(x_train, training=True)  # Forward pass\n",
        "            # Compute the loss value\n",
        "            # (the loss function is configured in `compile()`)\n",
        "            loss = self.compiled_loss(y_train, y_pred, \n",
        "                                      regularization_losses = self.losses)\n",
        "\n",
        "        # Compute gradients\n",
        "        trainable_vars = self.trainable_variables\n",
        "        gradients = tape.gradient(loss, trainable_vars)\n",
        "        # Update weights\n",
        "        self.optimizer.apply_gradients(zip(gradients, trainable_vars))\n",
        "        # Update metrics (includes the metric that tracks the loss)\n",
        "        self.compiled_metrics.update_state(y_train, y_pred)\n",
        "        # Return a dict mapping metric names to current value\n",
        "        return {m.name: m.result() for m in self.metrics}\n",
        "    def test_step(self, data):\n",
        "        \"\"\"\n",
        "        We must have the testing function to avoid double dipping in testing\n",
        "        \"\"\"\n",
        "        # Unpack the data\n",
        "        x, y = data\n",
        "        # Compute predictions\n",
        "        y_pred = self(x, training=False)\n",
        "        # Updates the metrics tracking the loss\n",
        "        self.compiled_loss(y, y_pred, regularization_losses=self.losses)\n",
        "        # Update the metrics.\n",
        "        self.compiled_metrics.update_state(y, y_pred)\n",
        "        # Return a dict mapping metric names to current value.\n",
        "        # Note that it will include the loss (tracked in self.metrics).\n",
        "        return {m.name: m.result() for m in self.metrics}\n",
        "def build_model(input_size,output_size = 2,kernel_regularizer = None,activity_regularizer = None):\n",
        "    \"\"\"\n",
        "    This function builds the logistic regression classifier using the customized\n",
        "    modeling building method we define above\n",
        "\n",
        "    Inputs\n",
        "    ---\n",
        "    input_size: int, the 2nd dimension of the input features\n",
        "    output_size: int, default = 2\n",
        "    kernel_regularizer: None or keras.regularizers\n",
        "    activity_regularizer: None or keras.regularizers\n",
        "\n",
        "    Outputs\n",
        "    ---\n",
        "    model: keras.Models\n",
        "    \"\"\"\n",
        "    tf.random.set_seed(12345)\n",
        "    input_layer = layers.Input(shape        = (input_size,),\n",
        "                                name         = \"input_layer\",)\n",
        "\n",
        "    logistic_layer = layers.Dense(units                 = output_size,\n",
        "                                  activation            = 'softmax',\n",
        "                                  use_bias              = True,\n",
        "                                  kernel_initializer    = initializers.HeNormal(),\n",
        "                                  kernel_regularizer    = kernel_regularizer,\n",
        "                                  activity_regularizer  = activity_regularizer,\n",
        "                                  name                  = 'logistic_layer'\n",
        "                                  )(input_layer)\n",
        "    model = simple_logistic_regression(input_layer,logistic_layer,\n",
        "                                       name = 'logistic_regression')\n",
        "    return model\n",
        "# the most important helper function: early stopping and model saving\n",
        "def make_CallBackList(model_name,monitor='val_loss',mode='min',verbose=0,min_delta=1e-4,patience=50,frequency = 1):\n",
        "    \n",
        "    \"\"\"\n",
        "    Make call back function lists for the keras models\n",
        "    \n",
        "    Parameters\n",
        "    -------------------------\n",
        "    model_name : str,\n",
        "        directory of where we want to save the model and its name\n",
        "    monitor : str, default = 'val_loss'\n",
        "        the criterion we used for saving or stopping the model\n",
        "    mode : str, default = 'min'\n",
        "        min --> lower the better, max --> higher the better\n",
        "    verboser : int or bool, default = 0\n",
        "        printout the monitoring messages\n",
        "    min_delta : float, default = 1e-4\n",
        "        minimum change for early stopping\n",
        "    patience : int, default = 50\n",
        "        temporal windows of the minimum change monitoring\n",
        "    frequency : int, default = 1\n",
        "        temporal window steps of the minimum change monitoring\n",
        "    \n",
        "    Return\n",
        "    --------------------------\n",
        "    CheckPoint : tensorflow.keras.callbacks\n",
        "        saving the best model\n",
        "    EarlyStopping : tensorflow.keras.callbacks\n",
        "        early stoppi\n",
        "    \"\"\"\n",
        "    checkPoint = ModelCheckpoint(model_name,# saving path\n",
        "                                 monitor          = monitor,# saving criterion\n",
        "                                 save_best_only   = True,# save only the best model\n",
        "                                 mode             = mode,# saving criterion\n",
        "                                 verbose          = verbose,# print out (>1) or not (0)\n",
        "                                 )\n",
        "    earlyStop = EarlyStopping(   monitor          = monitor,\n",
        "                                 min_delta        = min_delta,\n",
        "                                 patience         = patience,\n",
        "                                 verbose          = verbose, \n",
        "                                 mode             = mode,\n",
        "                                 )\n",
        "    return [checkPoint,earlyStop]\n",
        "def compile_logistic_regression(\n",
        "                    model,\n",
        "                    model_name      = 'temp.h5',\n",
        "                    optimizer       = None,\n",
        "                    loss_function   = None,\n",
        "                    metric          = None,\n",
        "                    callbacks       = None,\n",
        "                    learning_rate   = 1e-2,\n",
        "                    tol             = 1e-4,\n",
        "                    patience        = 5,\n",
        "                    ):\n",
        "    \"\"\"\n",
        "    Inputs\n",
        "    ---\n",
        "    model: tf.keras.models.Model or callable tf objects\n",
        "    model_name: str, directory of where we want to save the model and its name\n",
        "    optimizer: None or tf.keras.optimizers, default = SGD\n",
        "    loss_function: None or tf.keras.losses, default = BinaryCrossentropy\n",
        "    metric: None or tf.keras.metrics, default = AUC\n",
        "    callbacks: None or list of tf.keras.callbacks, default = [checkpoint,earlystopping]\n",
        "    learning_rate: float, learning rate, default = 1e-2,\n",
        "    tol: float, for determining when to stop training, default = 1e-4,\n",
        "    patience: int, for determing when to stop training, default = 5,\n",
        "    \n",
        "    Outputs\n",
        "    ---\n",
        "    model: tf.keras.models.Model or callable tf objects\n",
        "    callbacks:ist of tf.keras.callbacks\n",
        "    \"\"\"\n",
        "    if optimizer is None:\n",
        "        optimizer       = optimizers.SGD(learning_rate = learning_rate,)\n",
        "    if loss_function is None:\n",
        "        loss_function   = losses.BinaryCrossentropy()\n",
        "    if metric is None:\n",
        "        metric          = metrics.AUC()\n",
        "    if callbacks is None:\n",
        "        callbacks       = make_CallBackList(\n",
        "                                      model_name    = model_name,\n",
        "                                      monitor       = 'val_loss',\n",
        "                                      mode          = 'min',\n",
        "                                      verbose       = 0,\n",
        "                                      min_delta     = tol,\n",
        "                                      patience      = patience,\n",
        "                                      frequency     = 1,\n",
        "                                      )\n",
        "    model.compile(optimizer = optimizer,\n",
        "                  loss      = loss_function,\n",
        "                  metrics   = [metric],\n",
        "                  run_eagerly = True,\n",
        "                  )\n",
        "    return model,callbacks"
      ],
      "metadata": {
        "id": "rWZPDO8k_VRv"
      },
      "execution_count": null,
      "outputs": []
    },
    {
      "cell_type": "markdown",
      "source": [
        "## Use the helper functions to build the models"
      ],
      "metadata": {
        "id": "qsCPR1FZGGUX"
      }
    },
    {
      "cell_type": "code",
      "source": [
        "logistic_regression_model = build_model(input_size = X_train.shape[1],output_size = 2,)\n",
        "logistic_regression_model,callbacks = compile_logistic_regression(logistic_regression_model,\n",
        "                                                                  learning_rate = learning_rate,\n",
        "                                                                  tol = tol,\n",
        "                                                                  patience = patience,\n",
        "                                                                  )"
      ],
      "metadata": {
        "id": "oCVp-Wu3E0si"
      },
      "execution_count": null,
      "outputs": []
    },
    {
      "cell_type": "markdown",
      "source": [
        "## Train"
      ],
      "metadata": {
        "id": "cKG0hQGAL1Yi"
      }
    },
    {
      "cell_type": "code",
      "source": [
        "logistic_regression_model.fit(X_train,y_train,\n",
        "                              batch_size = batch_size,\n",
        "                              validation_data = (X_valid,y_valid),\n",
        "                              epochs = n_epochs,\n",
        "                              callbacks = callbacks,\n",
        "                              shuffle = True,\n",
        "                              )"
      ],
      "metadata": {
        "colab": {
          "base_uri": "https://localhost:8080/"
        },
        "id": "3WNzUIHyEQHp",
        "outputId": "f9477ff7-f783-45a0-c580-d9784e84ed60"
      },
      "execution_count": null,
      "outputs": [
        {
          "output_type": "stream",
          "name": "stdout",
          "text": [
            "Epoch 1/1000\n",
            "53/53 [==============================] - 1s 26ms/step - loss: 0.4295 - auc: 0.9219 - val_loss: 0.2978 - val_auc: 0.9507\n",
            "Epoch 2/1000\n",
            "53/53 [==============================] - 1s 24ms/step - loss: 0.3195 - auc: 0.9664 - val_loss: 0.2757 - val_auc: 0.9647\n",
            "Epoch 3/1000\n",
            "53/53 [==============================] - 1s 22ms/step - loss: 0.2242 - auc: 0.9801 - val_loss: 0.2553 - val_auc: 0.9638\n",
            "Epoch 4/1000\n",
            "53/53 [==============================] - 1s 21ms/step - loss: 0.2272 - auc: 0.9824 - val_loss: 0.2939 - val_auc: 0.9570\n",
            "Epoch 5/1000\n",
            "53/53 [==============================] - 1s 21ms/step - loss: 0.2552 - auc: 0.9830 - val_loss: 0.2500 - val_auc: 0.9606\n",
            "Epoch 6/1000\n",
            "53/53 [==============================] - 1s 18ms/step - loss: 0.2130 - auc: 0.9855 - val_loss: 0.2397 - val_auc: 0.9597\n",
            "Epoch 7/1000\n",
            "53/53 [==============================] - 1s 18ms/step - loss: 0.1925 - auc: 0.9843 - val_loss: 0.2363 - val_auc: 0.9602\n",
            "Epoch 8/1000\n",
            "53/53 [==============================] - 1s 21ms/step - loss: 0.1955 - auc: 0.9833 - val_loss: 0.2309 - val_auc: 0.9756\n",
            "Epoch 9/1000\n",
            "53/53 [==============================] - 1s 21ms/step - loss: 0.2507 - auc: 0.9864 - val_loss: 0.3864 - val_auc: 0.9269\n",
            "Epoch 10/1000\n",
            "53/53 [==============================] - 1s 22ms/step - loss: 0.2305 - auc: 0.9789 - val_loss: 0.2405 - val_auc: 0.9724\n",
            "Epoch 11/1000\n",
            "53/53 [==============================] - 1s 21ms/step - loss: 0.1996 - auc: 0.9855 - val_loss: 0.2643 - val_auc: 0.9683\n",
            "Epoch 12/1000\n",
            "53/53 [==============================] - 1s 21ms/step - loss: 0.2299 - auc: 0.9872 - val_loss: 0.2303 - val_auc: 0.9742\n",
            "Epoch 13/1000\n",
            "53/53 [==============================] - 1s 23ms/step - loss: 0.2177 - auc: 0.9824 - val_loss: 0.2322 - val_auc: 0.9742\n",
            "Epoch 14/1000\n",
            "53/53 [==============================] - 1s 20ms/step - loss: 0.1960 - auc: 0.9836 - val_loss: 0.2054 - val_auc: 0.9638\n",
            "Epoch 15/1000\n",
            "53/53 [==============================] - 1s 20ms/step - loss: 0.2343 - auc: 0.9794 - val_loss: 0.2322 - val_auc: 0.9737\n",
            "Epoch 16/1000\n",
            "53/53 [==============================] - 1s 21ms/step - loss: 0.2248 - auc: 0.9873 - val_loss: 0.2188 - val_auc: 0.9588\n",
            "Epoch 17/1000\n",
            "53/53 [==============================] - 1s 21ms/step - loss: 0.1902 - auc: 0.9870 - val_loss: 0.2285 - val_auc: 0.9574\n",
            "Epoch 18/1000\n",
            "53/53 [==============================] - 1s 21ms/step - loss: 0.1908 - auc: 0.9866 - val_loss: 0.2784 - val_auc: 0.9348\n",
            "Epoch 19/1000\n",
            "53/53 [==============================] - 1s 23ms/step - loss: 0.2412 - auc: 0.9842 - val_loss: 0.2437 - val_auc: 0.9559\n",
            "Epoch 20/1000\n",
            "53/53 [==============================] - 1s 22ms/step - loss: 0.2067 - auc: 0.9883 - val_loss: 0.2993 - val_auc: 0.9357\n",
            "Epoch 21/1000\n",
            "53/53 [==============================] - 1s 21ms/step - loss: 0.2236 - auc: 0.9879 - val_loss: 0.2275 - val_auc: 0.9615\n",
            "Epoch 22/1000\n",
            "53/53 [==============================] - 1s 21ms/step - loss: 0.2298 - auc: 0.9881 - val_loss: 0.2695 - val_auc: 0.9384\n",
            "Epoch 23/1000\n",
            "53/53 [==============================] - 1s 22ms/step - loss: 0.2230 - auc: 0.9832 - val_loss: 0.2315 - val_auc: 0.9638\n",
            "Epoch 24/1000\n",
            "53/53 [==============================] - 1s 22ms/step - loss: 0.1989 - auc: 0.9797 - val_loss: 0.2600 - val_auc: 0.9212\n"
          ]
        },
        {
          "output_type": "execute_result",
          "data": {
            "text/plain": [
              "<keras.callbacks.History at 0x7f34bd8e1610>"
            ]
          },
          "metadata": {},
          "execution_count": 32
        }
      ]
    },
    {
      "cell_type": "markdown",
      "source": [
        "## Predict"
      ],
      "metadata": {
        "id": "Kc-7OSJTLmpA"
      }
    },
    {
      "cell_type": "markdown",
      "source": [
        "## Predict on random data"
      ],
      "metadata": {
        "id": "nvUTYuM9MGxd"
      }
    },
    {
      "cell_type": "code",
      "source": [
        "X_train,y_train,X_test,y_test = load_data(exclude = None)\n",
        "X_noise = X_test.copy()"
      ],
      "metadata": {
        "id": "-Xgefw91L8kX"
      },
      "execution_count": null,
      "outputs": []
    },
    {
      "cell_type": "code",
      "source": [
        "y_noise_pred = logistic_regression_model.predict(X_noise)"
      ],
      "metadata": {
        "id": "Wd7b_D9ZMZex"
      },
      "execution_count": null,
      "outputs": []
    },
    {
      "cell_type": "code",
      "source": [
        "plt.hist(y_noise_pred[:,-1])"
      ],
      "metadata": {
        "colab": {
          "base_uri": "https://localhost:8080/",
          "height": 337
        },
        "id": "tvBi4cENMjhu",
        "outputId": "438223a2-8851-455a-e318-78bf7e209c4e"
      },
      "execution_count": null,
      "outputs": [
        {
          "output_type": "execute_result",
          "data": {
            "text/plain": [
              "(array([479.,  86.,  53.,  43.,  43.,  45.,  57.,  45.,  78., 476.]),\n",
              " array([0. , 0.1, 0.2, 0.3, 0.4, 0.5, 0.6, 0.7, 0.8, 0.9, 1. ],\n",
              "       dtype=float32),\n",
              " <a list of 10 Patch objects>)"
            ]
          },
          "metadata": {},
          "execution_count": 35
        },
        {
          "output_type": "display_data",
          "data": {
            "text/plain": [
              "<Figure size 432x288 with 1 Axes>"
            ],
            "image/png": "[encoded data removed]"
          },
          "metadata": {
            "needs_background": "light"
          }
        }
      ]
    },
    {
      "cell_type": "markdown",
      "source": [
        "# train the model without using the Gaussian noise samples"
      ],
      "metadata": {
        "id": "0dOV3GViFEm4"
      }
    },
    {
      "cell_type": "code",
      "source": [
        "X_train,y_train,X_test,y_test = load_data(exclude = None)\n",
        "label_maps = {0:[1,0],\n",
        "              1:[0,1],\n",
        "              2:[0.5,0.5]}\n",
        "y_train = np.array([label_maps[item] for item in y_train])\n",
        "y_test = np.array([label_maps[item] for item in y_test])\n",
        "X_train,X_valid,y_train,y_valid = train_test_split(X_train,y_train,test_size = .1,random_state = 12345)\n",
        "def build_model(input_size,output_size = 2,kernel_regularizer = None,activity_regularizer = None):\n",
        "    \"\"\"\n",
        "    This function builds the logistic regression classifier using the customized\n",
        "    modeling building method we define above\n",
        "\n",
        "    Inputs\n",
        "    ---\n",
        "    input_size: int, the 2nd dimension of the input features\n",
        "    output_size: int, default = 2\n",
        "    kernel_regularizer: None or keras.regularizers\n",
        "    activity_regularizer: None or keras.regularizers\n",
        "\n",
        "    Outputs\n",
        "    ---\n",
        "    model: keras.Models\n",
        "    \"\"\"\n",
        "    tf.random.set_seed(12345)\n",
        "    input_layer = layers.Input(shape        = (input_size,),\n",
        "                                name         = \"input_layer\",)\n",
        "\n",
        "    logistic_layer = layers.Dense(units                 = output_size,\n",
        "                                  activation            = 'softmax',\n",
        "                                  use_bias              = True,\n",
        "                                  kernel_initializer    = initializers.HeNormal(),\n",
        "                                  kernel_regularizer    = kernel_regularizer,\n",
        "                                  activity_regularizer  = activity_regularizer,\n",
        "                                  name                  = 'logistic_layer'\n",
        "                                  )(input_layer)\n",
        "    model = models.Model(input_layer,logistic_layer,name = 'logistic_regression')\n",
        "    return model\n",
        "# the most important helper function: early stopping and model saving\n",
        "def make_CallBackList(model_name,monitor='val_loss',mode='min',verbose=0,min_delta=1e-4,patience=50,frequency = 1):\n",
        "    \n",
        "    \"\"\"\n",
        "    Make call back function lists for the keras models\n",
        "    \n",
        "    Parameters\n",
        "    -------------------------\n",
        "    model_name : str,\n",
        "        directory of where we want to save the model and its name\n",
        "    monitor : str, default = 'val_loss'\n",
        "        the criterion we used for saving or stopping the model\n",
        "    mode : str, default = 'min'\n",
        "        min --> lower the better, max --> higher the better\n",
        "    verboser : int or bool, default = 0\n",
        "        printout the monitoring messages\n",
        "    min_delta : float, default = 1e-4\n",
        "        minimum change for early stopping\n",
        "    patience : int, default = 50\n",
        "        temporal windows of the minimum change monitoring\n",
        "    frequency : int, default = 1\n",
        "        temporal window steps of the minimum change monitoring\n",
        "    \n",
        "    Return\n",
        "    --------------------------\n",
        "    CheckPoint : tensorflow.keras.callbacks\n",
        "        saving the best model\n",
        "    EarlyStopping : tensorflow.keras.callbacks\n",
        "        early stoppi\n",
        "    \"\"\"\n",
        "    checkPoint = ModelCheckpoint(model_name,# saving path\n",
        "                                 monitor          = monitor,# saving criterion\n",
        "                                 save_best_only   = True,# save only the best model\n",
        "                                 mode             = mode,# saving criterion\n",
        "                                 verbose          = verbose,# print out (>1) or not (0)\n",
        "                                 )\n",
        "    earlyStop = EarlyStopping(   monitor          = monitor,\n",
        "                                 min_delta        = min_delta,\n",
        "                                 patience         = patience,\n",
        "                                 verbose          = verbose, \n",
        "                                 mode             = mode,\n",
        "                                 )\n",
        "    return [checkPoint,earlyStop]\n",
        "logistic_regression_model = build_model(input_size = X_train.shape[1],output_size = 2,)\n",
        "logistic_regression_model,callbacks = compile_logistic_regression(logistic_regression_model,\n",
        "                                                                  learning_rate = learning_rate,\n",
        "                                                                  tol = tol,\n",
        "                                                                  patience = patience,\n",
        "                                                                  )\n",
        "logistic_regression_model.fit(X_train,y_train,\n",
        "                              batch_size = batch_size,\n",
        "                              validation_data = (X_valid,y_valid),\n",
        "                              epochs = n_epochs,\n",
        "                              callbacks = callbacks,\n",
        "                              shuffle = True,\n",
        "                              )"
      ],
      "metadata": {
        "colab": {
          "base_uri": "https://localhost:8080/"
        },
        "id": "WL3k0S2uFJ-h",
        "outputId": "38d4f520-7ddd-445d-d988-a2d67fd8499e"
      },
      "execution_count": null,
      "outputs": [
        {
          "output_type": "stream",
          "name": "stdout",
          "text": [
            "Epoch 1/1000\n",
            "79/79 [==============================] - 2s 19ms/step - loss: 0.6566 - auc_1: 0.8424 - val_loss: 0.8525 - val_auc_1: 0.8048\n",
            "Epoch 2/1000\n",
            "79/79 [==============================] - 1s 18ms/step - loss: 0.4498 - auc_1: 0.9382 - val_loss: 0.4692 - val_auc_1: 0.9546\n",
            "Epoch 3/1000\n",
            "79/79 [==============================] - 1s 18ms/step - loss: 0.3391 - auc_1: 0.9773 - val_loss: 0.4321 - val_auc_1: 0.9746\n",
            "Epoch 4/1000\n",
            "79/79 [==============================] - 1s 19ms/step - loss: 0.3069 - auc_1: 0.9897 - val_loss: 0.4259 - val_auc_1: 0.9801\n",
            "Epoch 5/1000\n",
            "79/79 [==============================] - 1s 17ms/step - loss: 0.2828 - auc_1: 0.9966 - val_loss: 0.4145 - val_auc_1: 0.9822\n",
            "Epoch 6/1000\n",
            "79/79 [==============================] - 1s 18ms/step - loss: 0.2712 - auc_1: 0.9987 - val_loss: 0.4206 - val_auc_1: 0.9773\n",
            "Epoch 7/1000\n",
            "79/79 [==============================] - 1s 17ms/step - loss: 0.2644 - auc_1: 0.9993 - val_loss: 0.4256 - val_auc_1: 0.9792\n",
            "Epoch 8/1000\n",
            "79/79 [==============================] - 1s 17ms/step - loss: 0.2574 - auc_1: 0.9999 - val_loss: 0.4187 - val_auc_1: 0.9820\n",
            "Epoch 9/1000\n",
            "79/79 [==============================] - 1s 17ms/step - loss: 0.2537 - auc_1: 1.0000 - val_loss: 0.4177 - val_auc_1: 0.9797\n",
            "Epoch 10/1000\n",
            "79/79 [==============================] - 2s 19ms/step - loss: 0.2505 - auc_1: 1.0000 - val_loss: 0.4210 - val_auc_1: 0.9784\n",
            "Epoch 11/1000\n",
            "79/79 [==============================] - 2s 25ms/step - loss: 0.2484 - auc_1: 1.0000 - val_loss: 0.4200 - val_auc_1: 0.9801\n",
            "Epoch 12/1000\n",
            "79/79 [==============================] - 1s 16ms/step - loss: 0.2436 - auc_1: 1.0000 - val_loss: 0.4200 - val_auc_1: 0.9794\n",
            "Epoch 14/1000\n",
            "79/79 [==============================] - 1s 18ms/step - loss: 0.2421 - auc_1: 1.0000 - val_loss: 0.4184 - val_auc_1: 0.9810\n",
            "Epoch 15/1000\n",
            "79/79 [==============================] - 1s 17ms/step - loss: 0.2406 - auc_1: 1.0000 - val_loss: 0.4232 - val_auc_1: 0.9812\n"
          ]
        },
        {
          "output_type": "execute_result",
          "data": {
            "text/plain": [
              "<keras.callbacks.History at 0x7f34bd8d0690>"
            ]
          },
          "metadata": {},
          "execution_count": 36
        }
      ]
    },
    {
      "cell_type": "markdown",
      "source": [
        "## Predict"
      ],
      "metadata": {
        "id": "o4G566nAFs2M"
      }
    },
    {
      "cell_type": "code",
      "source": [
        "X_train,y_train,X_test,y_test = load_data(exclude = None)\n",
        "X_noise = X_test.copy()\n",
        "y_noise_pred = logistic_regression_model.predict(X_noise)\n",
        "plt.hist(y_noise_pred[:,-1])"
      ],
      "metadata": {
        "colab": {
          "base_uri": "https://localhost:8080/",
          "height": 352
        },
        "id": "YTnGwi-iFu0b",
        "outputId": "1d665fc7-2d15-41ad-d8d6-b1ed62d89090"
      },
      "execution_count": null,
      "outputs": [
        {
          "output_type": "execute_result",
          "data": {
            "text/plain": [
              "(array([515.,  93.,  63.,  38.,  52.,  48.,  44.,  73.,  71., 408.]),\n",
              " array([1.3438657e-17, 1.0000000e-01, 2.0000000e-01, 3.0000001e-01,\n",
              "        4.0000001e-01, 5.0000000e-01, 6.0000002e-01, 6.9999999e-01,\n",
              "        8.0000001e-01, 8.9999998e-01, 1.0000000e+00], dtype=float32),\n",
              " <a list of 10 Patch objects>)"
            ]
          },
          "metadata": {},
          "execution_count": 37
        },
        {
          "output_type": "display_data",
          "data": {
            "text/plain": [
              "<Figure size 432x288 with 1 Axes>"
            ],
            "image/png": "[encoded data removed]"
          },
          "metadata": {
            "needs_background": "light"
          }
        }
      ]
    },
    {
      "cell_type": "code",
      "source": [
        ""
      ],
      "metadata": {
        "id": "5KaQ9D4wG3ij"
      },
      "execution_count": null,
      "outputs": []
    }
  ]
}